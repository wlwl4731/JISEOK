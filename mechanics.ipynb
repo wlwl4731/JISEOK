{
 "cells": [
  {
   "cell_type": "markdown",
   "id": "ccd08c4b",
   "metadata": {},
   "source": [
    "# **1. 등가속도 운동**"
   ]
  },
  {
   "cell_type": "markdown",
   "id": "3c1692ec",
   "metadata": {},
   "source": [
    "## 1.1 등가속도 운동 공식"
   ]
  },
  {
   "cell_type": "markdown",
   "id": "29e4c6be",
   "metadata": {},
   "source": [
    "1. $v = v_0 + at$\n",
    "2. $s = v_0t + \\frac{1}{2}at^2$\n",
    "3. $v^2-v_0^2 = 2as$ $ \\;\\;\\; \\rightarrow \\;\\;\\;$ 등가속도 운동에서 시간이 없는 공식"
   ]
  },
  {
   "cell_type": "markdown",
   "id": "d8ab3c99",
   "metadata": {},
   "source": [
    "## 1.2 $v-t$ 그래프 분석"
   ]
  },
  {
   "cell_type": "markdown",
   "id": "ab79122e",
   "metadata": {},
   "source": [
    "![](https://velog.velcdn.com/images/wlwl4731/post/a9831227-495a-40bc-953e-7997aa279554/image.jpg)"
   ]
  },
  {
   "cell_type": "markdown",
   "id": "e6bea1fa",
   "metadata": {},
   "source": [
    "## 1.3 $a-t$ 그래프 분석"
   ]
  },
  {
   "cell_type": "markdown",
   "id": "f10d979b",
   "metadata": {},
   "source": [
    "$a-t$ 그래프는 $v-t$ 그래프로 바꿔서 풀자."
   ]
  },
  {
   "cell_type": "markdown",
   "id": "540e4fad",
   "metadata": {},
   "source": [
    "![](https://velog.velcdn.com/images/wlwl4731/post/3ddb3421-a4b1-473e-aad1-99455a4d9ccc/image.png)"
   ]
  },
  {
   "cell_type": "markdown",
   "id": "bfd146fd",
   "metadata": {},
   "source": [
    "<br/>"
   ]
  },
  {
   "cell_type": "markdown",
   "id": "d719e505",
   "metadata": {},
   "source": [
    "# **2. 중력가속도 운동**"
   ]
  },
  {
   "cell_type": "markdown",
   "id": "52b155ba",
   "metadata": {},
   "source": [
    "## 2.1 자유 낙하 운동 ($v_0 = 0$)"
   ]
  },
  {
   "cell_type": "markdown",
   "id": "db93b019",
   "metadata": {},
   "source": [
    "<img src=\"https://velog.velcdn.com/images/wlwl4731/post/a84e0d8d-d879-4592-ad51-592d25e0ed97/image.png\" width=\"20%\" height=\"30%\">"
   ]
  },
  {
   "cell_type": "markdown",
   "id": "9d57c519",
   "metadata": {},
   "source": [
    "**1. 지면 도달 시간 $t =$ ? & 높이 $h =$ ?**\n",
    "\n",
    "$s = v_0t + \\frac{1}{2}at^2$<br/>\n",
    "$h = 0 t + \\frac{1}{2}gt^2$<br/>\n",
    "\n",
    "$\\begin{aligned}\n",
    "\\Rightarrow t &= \\sqrt{\\frac{2h}{g}} \\\\\n",
    "\\Rightarrow h &= \\frac{1}{2}gt^2\n",
    "\\end{aligned}$"
   ]
  },
  {
   "cell_type": "markdown",
   "id": "1578688d",
   "metadata": {},
   "source": [
    "**2. 지면에서의 속도 $v =$ ?**\n",
    "\n",
    "1)\n",
    "\n",
    "$\\begin{aligned}\n",
    "2as &= v^2 - v_0^2 \\\\\n",
    "2gh &= v^2 - 0 \\\\\n",
    "\\\\\n",
    "\\Rightarrow v &= \\sqrt{2gh}\n",
    "\\end{aligned}$"
   ]
  },
  {
   "cell_type": "markdown",
   "id": "c280c35d",
   "metadata": {},
   "source": [
    "2)\n",
    "\n",
    "$\n",
    "\\begin{aligned}\n",
    "v &= v_0 + at \\\\\n",
    "&= 0 + g\\sqrt{\\frac{2h}{g}} \\\\\n",
    "&= \\sqrt{2gh}\n",
    "\\end{aligned}$"
   ]
  },
  {
   "cell_type": "markdown",
   "id": "331b89cc",
   "metadata": {},
   "source": [
    "## 2.2 연직 상방 운동 ($v_0 \\neq 0$)"
   ]
  },
  {
   "attachments": {
    "image.png": {
     "image/png": "[encoded data removed]"
    }
   },
   "cell_type": "markdown",
   "id": "33a77c3e",
   "metadata": {},
   "source": [
    "![image.png](attachment:image.png)"
   ]
  },
  {
   "cell_type": "markdown",
   "id": "747f81cc",
   "metadata": {},
   "source": [
    "**1. 최고점까지 도달 시간 $t =$ ?**\n",
    "\n",
    "$\\begin{aligned}\n",
    "v &= v_0 + at \\\\\n",
    "0 &=v_0 + (-g)t \\\\\n",
    "\\\\\n",
    "\\Rightarrow t &= \\frac{v_0}{g}\n",
    "\\end{aligned}$"
   ]
  },
  {
   "cell_type": "markdown",
   "id": "d3e68466",
   "metadata": {},
   "source": [
    "**2. 최고점의 높이 $h =$ ?**\n",
    "\n",
    "$\\begin{aligned}\n",
    "2as &= v^2 - v_0^2 \\\\\n",
    "2(-g)h &= 0^2 - v_0^2 \\\\\n",
    "\\\\\n",
    "\\Rightarrow h &= \\frac{v_0^2}{2g}\n",
    "\\end{aligned}$"
   ]
  },
  {
   "cell_type": "markdown",
   "id": "b220a29d",
   "metadata": {},
   "source": [
    "## 2.3 수평 포물선 운동 ($v_0 = v_x$)"
   ]
  },
  {
   "attachments": {
    "image.png": {
     "image/png": "[encoded data removed]"
    }
   },
   "cell_type": "markdown",
   "id": "fe7e8154",
   "metadata": {},
   "source": [
    "![image.png](attachment:image.png)"
   ]
  },
  {
   "cell_type": "markdown",
   "id": "7364f4e8",
   "metadata": {},
   "source": [
    "**1. 수직 낙하 시간 $t =$ ?**\n",
    "- 2.1 자유 낙하 운동과 지면에 도달하는 시간 동일<br/>\n",
    "$\\Rightarrow t = \\sqrt{\\frac{2h}{g}}$"
   ]
  },
  {
   "cell_type": "markdown",
   "id": "db62f135",
   "metadata": {},
   "source": [
    "**2. 수직 낙하 거리 $h =$ ?**\n",
    "\n",
    "$\\begin{aligned}\n",
    "h &= \\frac{1}{2}gt^2 \\\\\n",
    "h &= \\frac{1}{2}g(\\sqrt{\\frac{2h}{g}})^2 \\\\\n",
    "\\\\\n",
    "\\Rightarrow h &= h\n",
    "\\end{aligned}$"
   ]
  },
  {
   "cell_type": "markdown",
   "id": "4f8435aa",
   "metadata": {},
   "source": [
    "**3. 수평 도달 거리 $R =$ ?**\n",
    "\n",
    "$\\begin{aligned}\n",
    "s &= v_{0.x}t + \\frac{1}{2}a_xt^2 \\\\\n",
    "R &= v_{0.x}t \\\\\n",
    "R &= v_{0.x}\\sqrt{\\frac{2h}{g}}\n",
    "\\end{aligned}$"
   ]
  },
  {
   "cell_type": "markdown",
   "id": "a98ee512",
   "metadata": {},
   "source": [
    "## 2.4 포물선 운동"
   ]
  },
  {
   "attachments": {
    "image.png": {
     "image/png": "[encoded data removed]"
    }
   },
   "cell_type": "markdown",
   "id": "5aa7c214",
   "metadata": {},
   "source": [
    "![image.png](attachment:image.png)"
   ]
  },
  {
   "cell_type": "markdown",
   "id": "fbcc1d91",
   "metadata": {},
   "source": [
    "**1. 최고점까지의 시간 $t_0 =$ ?**\n",
    "\n",
    "2.2 연직 상방 운동과 최고점까지의 시간 동일<br/>\n",
    "$\\Rightarrow t_0 = \\frac{v_0\\sin\\theta}{g}$"
   ]
  },
  {
   "cell_type": "markdown",
   "id": "cb76e42b",
   "metadata": {},
   "source": [
    "**2. 수평 도달 시간 $t =$ ?**\n",
    "\n",
    "$\\begin{aligned}\n",
    "t &= 2 \\times t_0 \\\\\n",
    "\\\\\n",
    "\\Rightarrow t &= 2 \\times \\frac{v_0\\sin\\theta}{g}\n",
    "\\end{aligned}$"
   ]
  },
  {
   "cell_type": "markdown",
   "id": "dddeec7b",
   "metadata": {},
   "source": [
    "**3. 최고점까지의 높이 $h =$ ?**\n",
    "\n",
    "2.2 연직 상방 운동과 최고점까지의 높이 동일<br/>\n",
    "$\\Rightarrow h = \\frac{(v_0\\sin\\theta)^2}{2g}$"
   ]
  },
  {
   "cell_type": "markdown",
   "id": "cdb527e3",
   "metadata": {},
   "source": [
    "**4. 수평 도달 거리 $R =$ ?**\n",
    "\n",
    "$\\begin{aligned}\n",
    "R &= v_xt + \\frac{1}{2}a_xt^2 \\\\\n",
    "&= v_0\\cos\\theta \\times \\frac{2v_0\\sin\\theta}{g} \\\\\n",
    "&= \\frac{2v_0^2\\sin\\theta\\cos\\theta}{g} \\\\\n",
    "&= \\frac{v_0^2\\sin2\\theta}{g}\n",
    "\\end{aligned}$"
   ]
  },
  {
   "cell_type": "markdown",
   "id": "e0351336",
   "metadata": {},
   "source": [
    "<br/>"
   ]
  },
  {
   "cell_type": "markdown",
   "id": "b3ffa965",
   "metadata": {},
   "source": [
    "# **3. 벡터의 분해와 합성**"
   ]
  },
  {
   "cell_type": "markdown",
   "id": "494b1be6",
   "metadata": {},
   "source": [
    "## 3.1 하나의 벡터를 서로 직각인 두 벡터로 분해하기"
   ]
  },
  {
   "attachments": {
    "image.png": {
     "image/png": "[encoded data removed]"
    }
   },
   "cell_type": "markdown",
   "id": "06c83227",
   "metadata": {},
   "source": [
    "![image.png](attachment:image.png)"
   ]
  },
  {
   "cell_type": "markdown",
   "id": "4a792853",
   "metadata": {},
   "source": [
    "1. $\\theta$ 가 있는 방향이 $\\cos\\theta$\n",
    "2. $\\theta$ 가 없는 방향이 $\\sin\\theta$"
   ]
  },
  {
   "cell_type": "markdown",
   "id": "e533d48f",
   "metadata": {},
   "source": [
    "- **Ex 1. 빗면에서의 중력 분해**"
   ]
  },
  {
   "attachments": {
    "image.png": {
     "image/png": "[encoded data removed]"
    }
   },
   "cell_type": "markdown",
   "id": "94c7abbf",
   "metadata": {},
   "source": [
    "![image.png](attachment:image.png)\n",
    "\n",
    "1. 빗변과 평행 방향 $H = mg\\sin\\theta$\n",
    "\n",
    "2. 빗변과 직각 방향 $N = mg\\cos\\theta$"
   ]
  },
  {
   "cell_type": "markdown",
   "id": "279dc5f0",
   "metadata": {},
   "source": [
    "- **Ex 2. 단진자에서의 중력 분해**"
   ]
  },
  {
   "attachments": {
    "image.png": {
     "image/png": "[encoded data removed]"
    }
   },
   "cell_type": "markdown",
   "id": "9843650d",
   "metadata": {},
   "source": [
    "![image.png](attachment:image.png)\n",
    "\n",
    "1. 장력과 수직 방향 $H = mg\\sin\\theta$\n",
    "\n",
    "2. 장력과 반대 방향 $N = mg\\cos\\theta$"
   ]
  },
  {
   "cell_type": "markdown",
   "id": "2f5b500c",
   "metadata": {},
   "source": [
    "<br/>"
   ]
  },
  {
   "cell_type": "markdown",
   "id": "3d95cc2d",
   "metadata": {},
   "source": [
    "# **4. 마찰력과 내력 & 외력**"
   ]
  },
  {
   "cell_type": "markdown",
   "id": "224c1c3b",
   "metadata": {},
   "source": [
    "## 4.1 마찰력"
   ]
  },
  {
   "cell_type": "markdown",
   "id": "c52b2492",
   "metadata": {},
   "source": [
    "정지 마찰력 = 외력, $f = F$\n",
    "\n",
    "최대 정지 마찰력 $f_s = \\mu_sN$\n",
    "\n",
    "운동 마찰력 $f_k = \\mu_kN$\n",
    "\n",
    "$f_s > f_k$"
   ]
  },
  {
   "cell_type": "markdown",
   "id": "61153ba1",
   "metadata": {},
   "source": [
    "## 4.2 내력 & 외력"
   ]
  },
  {
   "cell_type": "markdown",
   "id": "89a7c606",
   "metadata": {},
   "source": [
    "여러 물체가 한꺼번에 운동할 때, 전체 가속도는 외력이 결정한다.\n",
    "\n",
    "내력은 서로 상쇄되므로, 전체 가속도에 영향을 끼치지 않는다."
   ]
  },
  {
   "cell_type": "markdown",
   "id": "032c6b58",
   "metadata": {},
   "source": [
    "<br/>"
   ]
  },
  {
   "cell_type": "markdown",
   "id": "9fb7f6e7",
   "metadata": {},
   "source": [
    "# **5. 일과 에너지**"
   ]
  },
  {
   "cell_type": "markdown",
   "id": "1da59c7e",
   "metadata": {},
   "source": [
    "## 5.1 일의 정의"
   ]
  },
  {
   "cell_type": "markdown",
   "id": "52365bc0",
   "metadata": {},
   "source": [
    "$W = \\vec{F} \\cdot \\vec{s} = Fs\\cos\\theta \\;\\;\\; [J]$\n",
    "\n",
    "일의 물리적 정의 : 물체에게 에너지를 주는 과정을 일이라고 한다.\n",
    "\n",
    "물체에게 힘을 가하여, 물체를 힘의 방향으로 거리를 이동시키는 것을 일이라고 한다."
   ]
  },
  {
   "cell_type": "markdown",
   "id": "04eccf78",
   "metadata": {},
   "source": [
    "1. 마찰력이 한 일: $W = -\\mu_kmgs$\n",
    "2. 중력이 한 일: $W = mgh$\n",
    "3. 탄성력이 한 일: $W = \\frac{1}{2}kx^2$"
   ]
  },
  {
   "cell_type": "markdown",
   "id": "4447176c",
   "metadata": {},
   "source": [
    "## 5.2 에너지"
   ]
  },
  {
   "cell_type": "markdown",
   "id": "12e84e0e",
   "metadata": {},
   "source": [
    "1. 운동에너지 $K = \\frac{1}{2}mv^2$\n",
    "2. 위치에너지 $U_g = mgh,\\;\\;\\;\\; U_k = \\frac{1}{2}kx^2,\\;\\;\\;\\; U_p = -G\\frac{Mm}{r}$"
   ]
  },
  {
   "cell_type": "markdown",
   "id": "23d24aeb",
   "metadata": {},
   "source": [
    "## 5.3 일-운동에너지 법칙"
   ]
  },
  {
   "cell_type": "markdown",
   "id": "4ee01d18",
   "metadata": {},
   "source": [
    "$W = Fs\\cos\\theta = K_2 - K_1 = \\frac{1}{2}mv_2^2 - \\frac{1}{2}mv_1^2$"
   ]
  },
  {
   "cell_type": "markdown",
   "id": "b1c77730",
   "metadata": {},
   "source": [
    "## 5.4 F-s 그래프"
   ]
  },
  {
   "attachments": {
    "image.png": {
     "image/png": "[encoded data removed]"
    }
   },
   "cell_type": "markdown",
   "id": "a9e65073",
   "metadata": {},
   "source": [
    "![image.png](attachment:image.png)"
   ]
  },
  {
   "cell_type": "markdown",
   "id": "835aaaee",
   "metadata": {},
   "source": [
    "## 5.5 일률 Power"
   ]
  },
  {
   "cell_type": "markdown",
   "id": "7caa6b05",
   "metadata": {},
   "source": [
    "일률 $P = \\frac{W}{t} = \\frac{Fs}{t} = Fv \\;\\;\\; [W]$"
   ]
  },
  {
   "cell_type": "markdown",
   "id": "948f4374",
   "metadata": {},
   "source": [
    "## 5.6 역학적 에너지 보존"
   ]
  },
  {
   "cell_type": "markdown",
   "id": "9f9c25e6",
   "metadata": {},
   "source": [
    "**1. 역학적 에너지**\n",
    "\n",
    "역학적 에너지 = 위치에너지 + 운동에너지\n",
    "\n",
    "$E = U + K$"
   ]
  },
  {
   "cell_type": "markdown",
   "id": "44749f03",
   "metadata": {},
   "source": [
    "**2. 역학적 에너지 보존**\n",
    "\n",
    "$-\\Delta U = W = +\\Delta K$\n",
    "\n",
    "힘이 일을 하면 $\\Rightarrow$ 1. 운동에너지가 증가한다. <br/>\n",
    " $\\;\\;\\;\\;\\;\\;\\;\\;\\;\\;\\;\\;\\;\\;\\;\\;\\;\\;\\;\\;\\;\\,$ 2. 위치에너지가 감소한다."
   ]
  },
  {
   "cell_type": "markdown",
   "id": "20ec9ed7",
   "metadata": {},
   "source": [
    "## 5.7 에너지 보존 법칙과 마찰력"
   ]
  },
  {
   "cell_type": "markdown",
   "id": "a06f9d43",
   "metadata": {},
   "source": [
    "**1. 마찰력 X** $\\rightarrow$ 역학적 에너지 보존된다."
   ]
  },
  {
   "cell_type": "markdown",
   "id": "f7602868",
   "metadata": {},
   "source": [
    "**2. 마찰력 O** $\\rightarrow$ 역학적 에너지 보존 X, 열에너지를 포함한 전체 에너지가 보존된다.<br/>\n",
    "$\\;\\;\\;\\;\\;\\;\\;\\;\\;\\;\\;\\;\\;\\;\\;\\;\\;\\;\\;$(마찰력이 있으면 열이 발생하는데 열에너지는 역학적 에너지가 아니다.)\n",
    "\n",
    "마찰력에 의해서 없어진 역학적 에너지는 마찰력이 한 일로 계산한다.\n",
    "\n",
    "$Q = W = fs$"
   ]
  },
  {
   "cell_type": "markdown",
   "id": "6f091493",
   "metadata": {},
   "source": [
    "## 5.8 힘, 일의 원리, 에너지 보존 법칙 문제 적용"
   ]
  },
  {
   "cell_type": "markdown",
   "id": "94cd5045",
   "metadata": {},
   "source": [
    "- $F = ma$<br/>\n",
    "힘과 가속도가 주어진 문제\n",
    "\n",
    "- $W = Fs = \\frac{1}{2}mv_2^2-\\frac{1}{2}mv_1^2$<br/>\n",
    "힘, 거리, 속력이 주어진 문제\n",
    "\n",
    "- $E_1 = E_2$<br/>\n",
    "처음 상태와 나중 상태를 비교하는 문제 or 위치에너지와 속력이 주어진 문제"
   ]
  },
  {
   "cell_type": "markdown",
   "id": "657d08d0",
   "metadata": {},
   "source": [
    "<br/>"
   ]
  },
  {
   "cell_type": "markdown",
   "id": "4429de90",
   "metadata": {},
   "source": [
    "# **6. 충격량과 운동량**"
   ]
  },
  {
   "cell_type": "markdown",
   "id": "3a435c5e",
   "metadata": {},
   "source": [
    "## 6.1 충격량-운동량 법칙"
   ]
  },
  {
   "cell_type": "markdown",
   "id": "6e3b06ee",
   "metadata": {},
   "source": [
    "- 운동량<br/>\n",
    "$P = mv$\n",
    "\n",
    "- 충격량<br/>\n",
    "$I = Ft = \\Delta P = \\Delta(mv)$ <br/>\n",
    "$\\Rightarrow 충격량 = 운동량의 변화량$\n",
    "\n",
    "- $mv_0 + I = mv$<br/>\n",
    "물체에 충격량을 가하면 운동량이 변한다"
   ]
  },
  {
   "cell_type": "markdown",
   "id": "015ec353",
   "metadata": {},
   "source": [
    "## 6.2 $F-t$ 그래프"
   ]
  },
  {
   "attachments": {
    "image.png": {
     "image/png": "[encoded data removed]"
    }
   },
   "cell_type": "markdown",
   "id": "6f0233f2",
   "metadata": {},
   "source": [
    "![image.png](attachment:image.png)"
   ]
  },
  {
   "cell_type": "markdown",
   "id": "65e30bc3",
   "metadata": {},
   "source": [
    "<br/>"
   ]
  },
  {
   "cell_type": "markdown",
   "id": "a76a9ccb",
   "metadata": {},
   "source": [
    "# **7. 충돌과 운동량 보존**"
   ]
  },
  {
   "cell_type": "markdown",
   "id": "67ebece1",
   "metadata": {},
   "source": [
    "## 7.1 충돌 과정"
   ]
  },
  {
   "cell_type": "markdown",
   "id": "f14d46e1",
   "metadata": {},
   "source": [
    "- 충돌할 때, 외력이 없으면 운동량은 항상 보존된다.\n",
    "\n",
    "- 반발계수, 운동량 보존, 운동에너지 보존법칙 중 2개 연립해서 푼다.\n",
    "\n",
    "- $e = \\frac{\\acute{v_2} - \\acute{v_1}}{v_1 - v_2}$"
   ]
  },
  {
   "cell_type": "markdown",
   "id": "229b3df4",
   "metadata": {},
   "source": [
    "## 7.2 탄성 충돌"
   ]
  },
  {
   "cell_type": "markdown",
   "id": "2f0d32c6",
   "metadata": {},
   "source": [
    "- $e = 1$\n",
    "\n",
    "- 운동량과 운동에너지 보존된다.\n",
    "\n",
    "- 충돌 전후의 속도차 크기 동일하다."
   ]
  },
  {
   "cell_type": "markdown",
   "id": "2305c353",
   "metadata": {},
   "source": [
    "## 7.3 완전 비탄성 충돌"
   ]
  },
  {
   "cell_type": "markdown",
   "id": "d1eda0d6",
   "metadata": {},
   "source": [
    "- $e = 0$\n",
    "\n",
    "- 운동량 보존된다.\n",
    "\n",
    "- 운동에너지 보존 안된다."
   ]
  },
  {
   "cell_type": "markdown",
   "id": "a7371ef9",
   "metadata": {},
   "source": [
    "<br/>"
   ]
  },
  {
   "cell_type": "markdown",
   "id": "f7be1158",
   "metadata": {},
   "source": [
    "# **8. 원운동**"
   ]
  },
  {
   "cell_type": "markdown",
   "id": "d75e8bf4",
   "metadata": {},
   "source": [
    "## 8.1 등속 원운동"
   ]
  },
  {
   "cell_type": "markdown",
   "id": "edbcc3f7",
   "metadata": {},
   "source": [
    "- 접선 방향의 힘은 운동 방향 변화에 영향 X\n",
    "\n",
    "- 접선 방향 $F_t = ma_t$ (속도 변화) <br/>\n",
    "법선 방향 $F_n = ma_n = m\\frac{v^2}{r} = mr\\omega^2$ (방향 변화)\n",
    "\n",
    "- 구심 가속도 <br/>\n",
    "$a_n = \\frac{v^2}{r} = r\\omega^2$\n",
    "\n",
    "- 접선 가속도 <br/>\n",
    "$a_t = 0$"
   ]
  },
  {
   "cell_type": "markdown",
   "id": "7d9220ff",
   "metadata": {},
   "source": [
    "## 8.2 등속 원운동의 주기와 속도"
   ]
  },
  {
   "cell_type": "markdown",
   "id": "bcb00c49",
   "metadata": {},
   "source": [
    "- 주기 <br/> \n",
    "$T$ : 물체가 원을 한 바퀴 회전하는데 걸리는 시간\n",
    "\n",
    "- 진동수 <br/>\n",
    "$f$ : 1초에 몇 바퀴 회전하는가를 나타내는 물리적 변수"
   ]
  },
  {
   "cell_type": "markdown",
   "id": "09681b86",
   "metadata": {},
   "source": [
    "1. 속도               $\\;\\;\\;\\;\\;\\;\\;\\;\\;\\;\\;\\;\\;\\,$   2. 각속도          <br/>\n",
    "$v = \\frac{2\\pi r}{T}$ $\\;\\;\\;\\;\\;\\;\\;\\;\\;\\;\\;\\;$ $\\omega = \\frac{2\\pi}{T}$\n"
   ]
  },
  {
   "cell_type": "markdown",
   "id": "5e6c8abf",
   "metadata": {},
   "source": [
    "## 8.3 수직 원운동"
   ]
  },
  {
   "attachments": {
    "image.png": {
     "image/png": "[encoded data removed]"
    }
   },
   "cell_type": "markdown",
   "id": "80a0c73a",
   "metadata": {},
   "source": [
    "![image.png](attachment:image.png)"
   ]
  },
  {
   "cell_type": "markdown",
   "id": "95ff12db",
   "metadata": {},
   "source": [
    "**1. 최고점에서 최소 속력 조건**"
   ]
  },
  {
   "cell_type": "markdown",
   "id": "6a8a7c25",
   "metadata": {},
   "source": [
    "$N = 0,$ $\\;\\;\\;mg = m\\frac{v^2}{r}$\n",
    "\n",
    "$\\Rightarrow v_t = \\sqrt{rg}$"
   ]
  },
  {
   "cell_type": "markdown",
   "id": "91075b2a",
   "metadata": {},
   "source": [
    "**2. 최저점에서 최소 속력 조건**"
   ]
  },
  {
   "cell_type": "markdown",
   "id": "797bc7df",
   "metadata": {},
   "source": [
    "$mg(2r) + \\frac{1}{2}mv_t^2 = \\frac{1}{2}mv_b^2$\n",
    "\n",
    "$\\Rightarrow v_b = \\sqrt{5rg}$"
   ]
  },
  {
   "cell_type": "markdown",
   "id": "59a2c7e7",
   "metadata": {},
   "source": [
    "**3. 롤러코스터처럼 굴러와 궤도를 떠나지 않고 회전하기 위한 &h =& ?**"
   ]
  },
  {
   "cell_type": "markdown",
   "id": "550eb923",
   "metadata": {},
   "source": [
    "$\\begin{aligned}\n",
    "mgh &= \\frac{1}{2}mv_b^2 = mg(2r) + \\frac{1}{2}mv_t^2 \\\\\n",
    "&= \\frac{1}{2}(\\sqrt{5rg})^2 \\\\\n",
    "&= \\frac{5}{2}mrg\n",
    "\\end{aligned}$\n",
    "\n",
    "$\\Rightarrow h = \\frac{5}{2}r > 2r$"
   ]
  },
  {
   "cell_type": "markdown",
   "id": "4aebcc1a",
   "metadata": {},
   "source": [
    "<br/>"
   ]
  },
  {
   "cell_type": "markdown",
   "id": "d119d77c",
   "metadata": {},
   "source": [
    "# **9. 관성모멘트 = 회전질량**"
   ]
  },
  {
   "cell_type": "markdown",
   "id": "db85f3f0",
   "metadata": {},
   "source": [
    "## 9.1 관성모멘트 $I$"
   ]
  },
  {
   "cell_type": "markdown",
   "id": "9128131d",
   "metadata": {},
   "source": [
    "$I = \\sum m_ir_i^2 = \\int\\limits r^2dm$\n",
    "\n",
    "관성모멘트는 $m$과 $r^2$에 비례한다."
   ]
  },
  {
   "cell_type": "markdown",
   "id": "ec759882",
   "metadata": {},
   "source": [
    "1. 원형 고리 $I_{cm} = mr^2$\n",
    "2. 원판 $I_{cm} = \\frac{1}{2}mr^2$\n",
    "3. 빈구 $I_{cm} = \\frac{2}{3}mr^2$\n",
    "4. 꽉찬 구 $I_{cm} = \\frac{2}{5}mr^2$\n",
    "5. 막대기 $I_{cm} = \\frac{1}{12}mL^2$\n",
    "6. 막대기 $I = \\frac{1}{3}mL^2$"
   ]
  },
  {
   "cell_type": "markdown",
   "id": "d0ae079f",
   "metadata": {},
   "source": [
    "- 같은 질량의 물체라도, 질량이 회전축 주위에 모여있으면 I가 작아서 회전이 잘된다.<br/>\n",
    "$\\rightarrow I$가 제일 작은 물체가 가장 빠르다. \n",
    "\n",
    "- 고리 > 빈구 > 원판 > 꽉찬 구"
   ]
  },
  {
   "cell_type": "markdown",
   "id": "b9900be0",
   "metadata": {},
   "source": [
    "## 9.2 평행축 정리"
   ]
  },
  {
   "cell_type": "markdown",
   "id": "e6493007",
   "metadata": {},
   "source": [
    "회전축이 질량중심에 있지 않을 때, I 구하기\n",
    "\n",
    "$I = I_{cm} + md^2$<br/>$\\rightarrow I_{cm}$보다 $I$가 크다.<br/>$\\Rightarrow$ 회전축이 질량중심에 있을 때, 관성모멘트 가장 작다.\n"
   ]
  },
  {
   "cell_type": "markdown",
   "id": "27318ec8",
   "metadata": {},
   "source": [
    "<br/>"
   ]
  },
  {
   "cell_type": "markdown",
   "id": "6c5f1cd4",
   "metadata": {},
   "source": [
    "# **10. 회전운동과 역학적 에너지 보존**"
   ]
  },
  {
   "cell_type": "markdown",
   "id": "ba26009f",
   "metadata": {},
   "source": [
    "## 10.1 직선운동과 회전운동의 관계"
   ]
  },
  {
   "cell_type": "markdown",
   "id": "d658dbb8",
   "metadata": {},
   "source": [
    "1. $s = r\\theta$\n",
    "2. $v = r\\omega$\n",
    "3. $a = r\\alpha$\n",
    "    - $a_t = r\\alpha$\n",
    "    - $a_n = \\frac{v^2}{r} = r\\omega^2$"
   ]
  },
  {
   "cell_type": "markdown",
   "id": "eb78e5ca",
   "metadata": {},
   "source": [
    "## 10.2 회전 운동에너지"
   ]
  },
  {
   "cell_type": "markdown",
   "id": "e044569f",
   "metadata": {},
   "source": [
    "- $K = \\frac{1}{2}I\\omega^2$<br/>\n",
    "\n",
    "- 일-운동에너지 법칙 동일하게 적용된다.<br/>\n",
    "$Fs = \\frac{1}{2}mv_2^2 - \\frac{1}{2}mv_1^2$ <br/>\n",
    "$\\tau\\theta = \\frac{1}{2}I\\omega_2^2 - \\frac{1}{2}I\\omega_1^2$"
   ]
  },
  {
   "cell_type": "markdown",
   "id": "ee214ff0",
   "metadata": {},
   "source": [
    "## 10.3 미끄러지지 않고 구를 때"
   ]
  },
  {
   "cell_type": "markdown",
   "id": "5a57aed6",
   "metadata": {},
   "source": [
    "1. 이동한 호의 길이 = 질량 중심의 직진 거리<br/>\n",
    "$\\Rightarrow$ 테두리의 $v,a$ = 질량 중심의 $v, a$\n",
    "\n",
    "2. 미끄러지지 않고 구를 때, 마찰력은 있지만 마찰열은 발생하지 않는다. <br/>\n",
    "$\\rightarrow W = fs = 0 \\;\\;\\;(s:$ 미끄러진 거리 = $0$)<br/>\n",
    "$\\Rightarrow$ 역학적 에너지 보존된다.<br/>\n",
    "(cf. 미끄러지면서 구를 때는, 마찰열이 발생. 따라서 역학적 에너지 보존되지 않는다.)\n",
    "\n",
    "3. 물체가 구르지 않고 미끄러지기만 한다면, 마찰력은 0이다.<br/>\n",
    "$\\rightarrow W = fs = 0$ ($s\\neq0$ 이지만 $f = 0$)<br/>\n",
    "$\\Rightarrow$ 역학적 에너지 보존된다.<br/>\n",
    "$*$ 구르지않고 미끄러지기만 하므로, 병진운동에너지는 있지만 회전운동에너지는 없다.\n",
    "\n",
    "4. 실제 속도는 각 점마다 다르다. \n",
    "    - a. 최고점 $v_t = 2v$\n",
    "    - b. 질량중심 $v_{com} = v$\n",
    "    - c. 바닥 $v_b = 0$"
   ]
  },
  {
   "attachments": {
    "image.png": {
     "image/png": "[encoded data removed]"
    }
   },
   "cell_type": "markdown",
   "id": "b7d70a46",
   "metadata": {},
   "source": [
    "![image.png](attachment:image.png)"
   ]
  },
  {
   "cell_type": "markdown",
   "id": "e31b8c68",
   "metadata": {},
   "source": [
    "<br/>"
   ]
  },
  {
   "cell_type": "markdown",
   "id": "92ab2c29",
   "metadata": {},
   "source": [
    "# **11. 각운동량 보존 법칙**"
   ]
  },
  {
   "cell_type": "markdown",
   "id": "91026eaf",
   "metadata": {},
   "source": [
    "## 11.1 각운동량"
   ]
  },
  {
   "cell_type": "markdown",
   "id": "e1436709",
   "metadata": {},
   "source": [
    "$\\begin{aligned}\n",
    "L &= I\\omega &\\text{(강체)} \\\\\n",
    "&= mrv &\\text{(질점)}\n",
    "\\end{aligned}$"
   ]
  },
  {
   "cell_type": "markdown",
   "id": "6702cac3",
   "metadata": {},
   "source": [
    "## 11.2 운동량 보존과 각운동량 보존"
   ]
  },
  {
   "cell_type": "markdown",
   "id": "de7e5a51",
   "metadata": {},
   "source": [
    "충돌할 때 (내력만 있을 때)\n",
    "1. 직선운동만 하면 : 선운동량 보존\n",
    "2. 회전운동도 포함 : 각운동량 보존"
   ]
  },
  {
   "cell_type": "markdown",
   "id": "5909efa3",
   "metadata": {},
   "source": [
    "<br/>"
   ]
  },
  {
   "cell_type": "markdown",
   "id": "108bd6ab",
   "metadata": {},
   "source": [
    "# **12. 토크와 각가속도 운동**"
   ]
  },
  {
   "cell_type": "markdown",
   "id": "ac48a270",
   "metadata": {},
   "source": [
    "## 12.1 토크"
   ]
  },
  {
   "cell_type": "markdown",
   "id": "9c0eb103",
   "metadata": {},
   "source": [
    "$\\begin{aligned}\n",
    "\\vec{\\tau} &= r\\vec{F} \\\\\n",
    "&= r\\vec{F}sin\\theta\n",
    "\\end{aligned}$ \n",
    "\n",
    "sin, cos은 따져봐야 된다."
   ]
  },
  {
   "cell_type": "markdown",
   "id": "7ff113bd",
   "metadata": {},
   "source": [
    "- 토크는 벡터다.\n",
    "- 회전축에 힘을 가하면 r = 0 이므로 토크 = 0 이다."
   ]
  },
  {
   "cell_type": "markdown",
   "id": "e6081209",
   "metadata": {},
   "source": [
    "## 12.2 각가속도 운동"
   ]
  },
  {
   "cell_type": "markdown",
   "id": "7da83269",
   "metadata": {},
   "source": [
    "아래 세 개의 식 연립해서 푼다.\n",
    "1. $\\tau = rF$\n",
    "2. $\\tau = I\\alpha$\n",
    "3. $a = r\\alpha$"
   ]
  },
  {
   "cell_type": "markdown",
   "id": "68e2ddc3",
   "metadata": {},
   "source": [
    "- **EX 1. 병진 운동하는 물체와 회전하는 물체가 함께 있을 때의 가속도**"
   ]
  },
  {
   "attachments": {
    "image-2.png": {
     "image/png": "[encoded data removed]"
    }
   },
   "cell_type": "markdown",
   "id": "9f04dac3",
   "metadata": {},
   "source": [
    "![image-2.png](attachment:image-2.png)"
   ]
  },
  {
   "cell_type": "markdown",
   "id": "f5d863e5",
   "metadata": {},
   "source": [
    "1.\n",
    "\n",
    "$\n",
    "\\tau = rF = I\\alpha, \\;\\; a = r\\alpha \\\\\n",
    "\\\\\n",
    "\\begin{aligned}\n",
    "\\Rightarrow\n",
    "RT &= I\\alpha \\\\\n",
    "T &= \\frac{I}{R}\\alpha = \\frac{I}{R^2}a\n",
    "\\end{aligned}\n",
    "$"
   ]
  },
  {
   "cell_type": "markdown",
   "id": "6e1c2bc5",
   "metadata": {},
   "source": [
    "2.\n",
    "\n",
    "$\n",
    "\\begin{aligned}\n",
    "mg - T &= ma \\\\\n",
    "mg - (\\frac{I}{R^2}) &= ma \\\\\n",
    "mg &= (m + \\frac{I}{R^2})a\n",
    "\\end{aligned}$"
   ]
  },
  {
   "cell_type": "markdown",
   "id": "38891da9",
   "metadata": {},
   "source": [
    "3.\n",
    "\n",
    "$\n",
    "a = \\frac{mg}{m + \\frac{I}{R^2}} = \\frac{F}{m + \\frac{I}{R^2}}\\;\\;\\; \\to \\;\\;\\;$ F는 회전힘 or 직진힘"
   ]
  },
  {
   "cell_type": "markdown",
   "id": "74a2590e",
   "metadata": {},
   "source": [
    "- **EX 2. 도르래를 무시하거나 도르래와 줄과의 마찰이 없을 때, 물체의 가속도**"
   ]
  },
  {
   "attachments": {
    "image-2.png": {
     "image/png": "[encoded data removed]"
    }
   },
   "cell_type": "markdown",
   "id": "dc64a63f",
   "metadata": {},
   "source": [
    "![image-2.png](attachment:image-2.png)"
   ]
  },
  {
   "cell_type": "markdown",
   "id": "0f16cc9b",
   "metadata": {},
   "source": [
    "$\n",
    "m_2g - m_1g = (m_1 + m_2)a \\\\\\\\\n",
    "\\\\\n",
    "\\Rightarrow a = \\frac{m_2g - m_1g}{m_1 + m_2}\n",
    "$"
   ]
  },
  {
   "cell_type": "markdown",
   "id": "7686d526",
   "metadata": {},
   "source": [
    "- **EX 3. 도르래를 포함하는 경우, 물체의 가속도**"
   ]
  },
  {
   "attachments": {
    "image.png": {
     "image/png": "[encoded data removed]"
    }
   },
   "cell_type": "markdown",
   "id": "9b38fd93",
   "metadata": {},
   "source": [
    "![image.png](attachment:image.png)"
   ]
  },
  {
   "cell_type": "markdown",
   "id": "06f3627a",
   "metadata": {},
   "source": [
    "$\\begin{aligned}\n",
    "a &= \\frac{F}{m + \\frac{I}{R^2}} \\\\\n",
    "&= \\frac{(T_1 - m_1g) + (T_2 - T_1) + (m_2g - T_2)}{m_1 + m_2 + \\frac{I}{R^2}} \\\\\n",
    "&= \\frac{m_2g - m_1g}{m_1 + m_2 + \\frac{I}{R^2}}\n",
    "\\end{aligned}$"
   ]
  },
  {
   "cell_type": "markdown",
   "id": "3bc0c48e",
   "metadata": {},
   "source": [
    "<br/>"
   ]
  },
  {
   "cell_type": "markdown",
   "id": "3ac5e732",
   "metadata": {},
   "source": [
    "# **13. 만유인력**"
   ]
  },
  {
   "cell_type": "markdown",
   "id": "6bd4f928",
   "metadata": {},
   "source": [
    "## 13.1 만유인력: 점 질량이 서로 잡아 당기는 힘 (인력)"
   ]
  },
  {
   "cell_type": "markdown",
   "id": "c8aeb123",
   "metadata": {},
   "source": [
    "$F = G\\frac{m_1m_2}{r^2}\n",
    "$"
   ]
  },
  {
   "cell_type": "markdown",
   "id": "af7640e8",
   "metadata": {},
   "source": [
    "## 13.2 중력: 커다란 질량이 만드는 만유인력"
   ]
  },
  {
   "cell_type": "markdown",
   "id": "074f14ed",
   "metadata": {},
   "source": [
    "1. 지구 **바깥**에서의 중력<br/>\n",
    "$F = G\\frac{Mm}{r^2}$"
   ]
  },
  {
   "cell_type": "markdown",
   "id": "72e5385d",
   "metadata": {},
   "source": [
    "2. 지구 **내부**에서의 중력<br/>\n",
    "$F = G\\frac{Mm}{R^3}r \\;\\; \\to \\;\\;\n",
    "$ 거리에 비례한다."
   ]
  },
  {
   "cell_type": "markdown",
   "id": "b4d484bd",
   "metadata": {},
   "source": [
    "3. 지구 **표면**에서의 중력<br/>\n",
    "$F = G\\frac{Mm}{R^2} = mg\n",
    "$"
   ]
  },
  {
   "cell_type": "markdown",
   "id": "7b3fa991",
   "metadata": {},
   "source": [
    "4. 지구 **표면**에서의 중력 가속도<br/>\n",
    "$g = G \\frac{M}{R^2} \\approx 10m/s^2\n",
    "$"
   ]
  },
  {
   "cell_type": "markdown",
   "id": "391b1a1b",
   "metadata": {},
   "source": [
    "- 지구 중심부터 지표면까지는 거리에 비례해 중력이 커진다.\n",
    "- 표면부터는 $r^2$에 반비례해 중력은 작아진다."
   ]
  },
  {
   "cell_type": "markdown",
   "id": "18889d8c",
   "metadata": {},
   "source": [
    "## 13.3 지구 바깥에서의 만유인력에 의한 퍼텐셜에너지"
   ]
  },
  {
   "cell_type": "markdown",
   "id": "84e16f3d",
   "metadata": {},
   "source": [
    "에너지 = 힘 X 거리\n",
    "\n",
    "$ \\begin{aligned}\n",
    "U_P &= G\\frac{Mm}{r^2} \\times r \\\\\n",
    "\\\\\n",
    "\\Rightarrow U_P &= - G\\frac{Mm}{r} \\;\\; \\to \\;\\; \\text{부호는 인력 때문에 (-)}\n",
    "\\end{aligned}$"
   ]
  },
  {
   "cell_type": "markdown",
   "id": "67eba22c",
   "metadata": {},
   "source": [
    "1. 일정하게 회전하는 지구 바깥의 물체 (EX. 인공위성)"
   ]
  },
  {
   "attachments": {
    "image.png": {
     "image/png": "[encoded data removed]"
    }
   },
   "cell_type": "markdown",
   "id": "007e62fa",
   "metadata": {},
   "source": [
    "![image.png](attachment:image.png)"
   ]
  },
  {
   "cell_type": "markdown",
   "id": "15045b2b",
   "metadata": {},
   "source": [
    "역학적 에너지 보존\n",
    "\n",
    "$\n",
    "\\frac{1}{2}mv^2 + (-G\\frac{Mm}{r}) =$ 일정"
   ]
  },
  {
   "cell_type": "markdown",
   "id": "5ba9f890",
   "metadata": {},
   "source": [
    "1. <br/>$\\begin{aligned}\n",
    "F_r &= G\\frac{Mm}{r^2} = m\\frac{v^2}{r} \\\\\n",
    "\\Rightarrow v &= \\sqrt{\\frac{GM}{r}}\n",
    "\\end{aligned}$"
   ]
  },
  {
   "cell_type": "markdown",
   "id": "508125f5",
   "metadata": {},
   "source": [
    "2. <br/>$\\begin{aligned}\n",
    "E &= \\frac{1}{2}mv^2 + (-G\\frac{Mm}{r}) \\\\\n",
    "&= \\frac{GMm}{2r} - \\frac{2GMm}{2r} \\\\\n",
    "&= -\\frac{GMm}{2r} \\\\\n",
    "\\end{aligned}$"
   ]
  },
  {
   "cell_type": "markdown",
   "id": "a596180f",
   "metadata": {},
   "source": [
    "## 13.4 케플러 법칙"
   ]
  },
  {
   "cell_type": "markdown",
   "id": "fa60c042",
   "metadata": {},
   "source": [
    "1. 제 2법칙 (면적 속도 일정 법칙)<br/>\n",
    "$r_1v_1 = r_2v_2 \\;\\; \\to \\;\\; rv =$ 일정"
   ]
  },
  {
   "cell_type": "markdown",
   "id": "cf52b7c3",
   "metadata": {},
   "source": [
    "2. 제 3법칙<br/>\n",
    "$T^2 = \\frac{4\\pi^2}{GM}a^3 \\;\\; \\to \\;\\; T^2 \\propto a^3$"
   ]
  },
  {
   "cell_type": "markdown",
   "id": "fb1a837f",
   "metadata": {},
   "source": [
    "<br/>"
   ]
  },
  {
   "cell_type": "markdown",
   "id": "82565d6f",
   "metadata": {},
   "source": [
    "# **14. dsa**"
   ]
  },
  {
   "cell_type": "markdown",
   "id": "5cf48856",
   "metadata": {},
   "source": []
  },
  {
   "cell_type": "markdown",
   "id": "8fa8df97",
   "metadata": {},
   "source": []
  },
  {
   "cell_type": "markdown",
   "id": "825b3935",
   "metadata": {},
   "source": []
  },
  {
   "cell_type": "markdown",
   "id": "86d0e7cb",
   "metadata": {},
   "source": []
  },
  {
   "cell_type": "markdown",
   "id": "c8aafb7e",
   "metadata": {},
   "source": []
  },
  {
   "cell_type": "markdown",
   "id": "1bbbe8dc",
   "metadata": {},
   "source": []
  },
  {
   "cell_type": "markdown",
   "id": "ae87994f",
   "metadata": {},
   "source": []
  },
  {
   "cell_type": "markdown",
   "id": "b8ab8d7e",
   "metadata": {},
   "source": []
  },
  {
   "cell_type": "markdown",
   "id": "9481b0b9",
   "metadata": {},
   "source": []
  },
  {
   "cell_type": "markdown",
   "id": "39c7bb90",
   "metadata": {},
   "source": []
  },
  {
   "cell_type": "markdown",
   "id": "16ff58cd",
   "metadata": {},
   "source": []
  },
  {
   "cell_type": "markdown",
   "id": "ad887fe5",
   "metadata": {},
   "source": []
  },
  {
   "cell_type": "markdown",
   "id": "83f83458",
   "metadata": {},
   "source": []
  },
  {
   "cell_type": "markdown",
   "id": "7c7010e6",
   "metadata": {},
   "source": []
  },
  {
   "cell_type": "markdown",
   "id": "5aa26a25",
   "metadata": {},
   "source": []
  },
  {
   "cell_type": "markdown",
   "id": "eaa58f3f",
   "metadata": {},
   "source": []
  },
  {
   "cell_type": "markdown",
   "id": "904d6545",
   "metadata": {},
   "source": []
  },
  {
   "cell_type": "markdown",
   "id": "8dae13ef",
   "metadata": {},
   "source": []
  },
  {
   "cell_type": "markdown",
   "id": "25b16efd",
   "metadata": {},
   "source": []
  },
  {
   "cell_type": "markdown",
   "id": "ce92f377",
   "metadata": {},
   "source": []
  },
  {
   "cell_type": "markdown",
   "id": "b81f1ce4",
   "metadata": {},
   "source": []
  },
  {
   "cell_type": "markdown",
   "id": "2586bf1b",
   "metadata": {},
   "source": []
  },
  {
   "cell_type": "markdown",
   "id": "36342e33",
   "metadata": {},
   "source": []
  },
  {
   "cell_type": "markdown",
   "id": "0d270002",
   "metadata": {},
   "source": []
  },
  {
   "cell_type": "markdown",
   "id": "6e9ccb1e",
   "metadata": {},
   "source": []
  },
  {
   "cell_type": "markdown",
   "id": "9397d3f6",
   "metadata": {},
   "source": []
  },
  {
   "cell_type": "markdown",
   "id": "9dec9412",
   "metadata": {},
   "source": []
  },
  {
   "cell_type": "markdown",
   "id": "6073b33b",
   "metadata": {},
   "source": []
  },
  {
   "cell_type": "markdown",
   "id": "a14fa83c",
   "metadata": {},
   "source": []
  },
  {
   "cell_type": "markdown",
   "id": "4f21a3a1",
   "metadata": {},
   "source": []
  },
  {
   "cell_type": "markdown",
   "id": "a95f5e46",
   "metadata": {},
   "source": []
  },
  {
   "cell_type": "markdown",
   "id": "4c757dda",
   "metadata": {},
   "source": []
  },
  {
   "cell_type": "markdown",
   "id": "b9cc5146",
   "metadata": {},
   "source": []
  },
  {
   "cell_type": "markdown",
   "id": "c3fbf9b6",
   "metadata": {},
   "source": []
  },
  {
   "cell_type": "markdown",
   "id": "aa9e665a",
   "metadata": {},
   "source": []
  },
  {
   "cell_type": "markdown",
   "id": "77260f22",
   "metadata": {},
   "source": []
  },
  {
   "cell_type": "markdown",
   "id": "df76f64b",
   "metadata": {},
   "source": []
  },
  {
   "cell_type": "markdown",
   "id": "b953220e",
   "metadata": {},
   "source": []
  },
  {
   "cell_type": "markdown",
   "id": "e9c0cee5",
   "metadata": {},
   "source": []
  },
  {
   "cell_type": "markdown",
   "id": "01568f2d",
   "metadata": {},
   "source": []
  },
  {
   "cell_type": "markdown",
   "id": "f1c3d522",
   "metadata": {},
   "source": []
  },
  {
   "cell_type": "markdown",
   "id": "9fee8a21",
   "metadata": {},
   "source": []
  },
  {
   "cell_type": "markdown",
   "id": "823d6ce5",
   "metadata": {},
   "source": []
  },
  {
   "cell_type": "markdown",
   "id": "279f230c",
   "metadata": {},
   "source": []
  },
  {
   "cell_type": "markdown",
   "id": "7394a5d9",
   "metadata": {},
   "source": []
  },
  {
   "cell_type": "markdown",
   "id": "5192ede1",
   "metadata": {},
   "source": []
  },
  {
   "cell_type": "markdown",
   "id": "1805c620",
   "metadata": {},
   "source": []
  },
  {
   "cell_type": "markdown",
   "id": "5c8f0b30",
   "metadata": {},
   "source": []
  },
  {
   "cell_type": "markdown",
   "id": "19b6e98d",
   "metadata": {},
   "source": []
  },
  {
   "cell_type": "markdown",
   "id": "6bdb281c",
   "metadata": {},
   "source": []
  }
 ],
 "metadata": {
  "kernelspec": {
   "display_name": "Python 3 (ipykernel)",
   "language": "python",
   "name": "python3"
  },
  "language_info": {
   "codemirror_mode": {
    "name": "ipython",
    "version": 3
   },
   "file_extension": ".py",
   "mimetype": "text/x-python",
   "name": "python",
   "nbconvert_exporter": "python",
   "pygments_lexer": "ipython3",
   "version": "3.10.9"
  }
 },
 "nbformat": 4,
 "nbformat_minor": 5
}
